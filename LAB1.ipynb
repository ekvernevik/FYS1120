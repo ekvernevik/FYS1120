{
 "cells": [
  {
   "cell_type": "markdown",
   "id": "425f5346",
   "metadata": {},
   "source": [
    "## FYS1120 - LAB 1\n",
    "**Emil J. Kvernevik**\n",
    "\n",
    "**På gruppe med: Rachel K. Stiansen, Thea Veidahl, Dans Reinicans**\n",
    "\n",
    "Date: **02.11.2022**\n",
    "\n",
    "***"
   ]
  },
  {
   "cell_type": "markdown",
   "id": "bd145474",
   "metadata": {},
   "source": [
    "# Før lab 1.1\n",
    "## Oppgave 1.1.1\n",
    "\n",
    "Vi har gitt følgende funksjon, som beskriver spenningen $U$ over kondensatoren ved en tid $t$ etter at kretsen er sluttet.\n",
    "$$U=U_{0}e^{-\\dfrac{t}{\\tau }}$$"
   ]
  },
  {
   "cell_type": "markdown",
   "id": "66537e82",
   "metadata": {},
   "source": [
    "Vi tar først logaritmen til venstresiden, og får at y blir\n",
    "\n",
    "$$y=ln({U}),$$\n",
    "\n",
    "Videre, tar vi logaritmen av høyresiden og får at\n",
    "\n",
    "$$y=ln(U_{0}e^{-\\dfrac{t}{\\tau }})$$\n",
    "\n",
    "$$y=ln(U_{0})+ln(e^{-\\dfrac{t}{\\tau }})$$\n",
    "\n",
    "$$y=ln(U_{0})-\\dfrac{t}{\\tau }ln(e)$$\n",
    "Bruker at $ln(e) = 1$, og får uttrykket på lineær form:\n",
    "\n",
    "$$y=ln(U_{0})-\\dfrac{1}{\\tau }t$$\n",
    "\n",
    "Hvor $y = ln(U)$, $a = -1/τ$, og at $b = ln(U_{0})$\n",
    "\n",
    "Om vi har en tilpassning til denne lineære funksjonen, eller en gradient $\\hat{a}$ til den tilpassede linjen, kan vi finne estimerte resistansen $\\hat{R}$, uttrykt ved et estimat av tidskonstanten $\\hat{τ}=-1/\\hat{a}$ og kapasitansen $C$\n",
    "\n",
    "$$\\tau=RC \\implies R=\\tau/C$$\n",
    "\n",
    "$$\\hat{R}=-\\dfrac{1}{\\hat{a}C}$$"
   ]
  },
  {
   "cell_type": "markdown",
   "id": "11a72405",
   "metadata": {},
   "source": [
    "## Oppgave 1.1.2"
   ]
  },
  {
   "cell_type": "code",
   "execution_count": 24,
   "id": "a9b8bc36",
   "metadata": {},
   "outputs": [],
   "source": [
    "# ========================== Importerer relevante moduler =========================== #\n",
    "\n",
    "import numpy as np\n",
    "import scipy.stats as scs\n",
    "import matplotlib.pyplot as plt\n",
    "\n",
    "# ============================ Funksjon for å estimere R ============================ #\n",
    "\n",
    "def estimer_R(U, t, C):\n",
    "    # funksjon for å estimere R\n",
    "    # linregress() returnerer mange verdier, men de vi er interessert i er a og b\n",
    "    res = scs.linregress(t, U)\n",
    "    a = res.slope\n",
    "    b = res.intercept\n",
    "    \n",
    "    tau = -1/a\n",
    "    R = tau/C\n",
    "    \n",
    "    # lager plottet\n",
    "    fig, axs = plt.subplots(2)\n",
    "    fig.suptitle(\"Lineær og eksponentiell tilpassning\")\n",
    "    \n",
    "    # plotter den lineære og eksponentielle tilpassningen\n",
    "    axs[0].scatter(t, np.log(U))\n",
    "    axs[1].scatter(t, U)\n",
    "    axs[0].plot(t, a*t + b, c=\"r\")\n",
    "    axs[1].plot(t, U[0]*np.exp(-t/tau), c=\"r\")\n",
    "    for ax in axs.flat:\n",
    "        ax.set(xlabel=\"Tid (t), i [s]\", ylabel=\"Spenning (U), i [V]\")\n",
    "    plt.show()\n",
    "    return R"
   ]
  },
  {
   "cell_type": "markdown",
   "id": "bffdb8c5",
   "metadata": {},
   "source": [
    "# På lab 1.2\n",
    "## Oppgave 1.2.1"
   ]
  },
  {
   "cell_type": "code",
   "execution_count": 25,
   "id": "6c9776b8",
   "metadata": {},
   "outputs": [
    {
     "data": {
      "image/png": "[encoded data removed]",
      "text/plain": [
       "<Figure size 432x288 with 2 Axes>"
      ]
     },
     "metadata": {
      "needs_background": "light"
     },
     "output_type": "display_data"
    },
    {
     "name": "stdout",
     "output_type": "stream",
     "text": [
      "Resistansen er 6.02e+06 [Ohm]\n"
     ]
    }
   ],
   "source": [
    "U = np.array([8.9, 7.0, 5.5, 4.32, 3.4, 2.68, 2.11, 1.66, 1.3, 1.02, 0.81, 0.64, 0.5, 0.4, 0.31, 0.25, 0.19, 0.15])\n",
    "t = np.linspace(0, 360, len(U))\n",
    "\n",
    "# 1.2.4 - Kondensator lades opp i under ett sekund, og utlades i løpet av 6+ minutter\n",
    "# 1.2.5 - Kondensatoren lades opp fortere enn den utlades fordi resistansen vil endre \n",
    "#         seg når batteriet kobles ut. Dette fører til at tau (tidskonstanten) endrer.\n",
    "\n",
    "C = 8.2e-6\n",
    "\n",
    "R = estimer_R(U, t, C)\n",
    "print(f\"Resistansen er {R:.2e} [Ohm]\")"
   ]
  },
  {
   "cell_type": "markdown",
   "id": "bd5d29e6",
   "metadata": {},
   "source": [
    "# Før lab 2.1\n",
    "## Oppgave 2.1.1\n",
    "\n",
    "Skriptet ligner på forrige, med unntak av at vi kun lager én plot, og ikke gjør noe med $a$. Dette skyldes av at vi plotter $U$ mot $I$, og tilpasser en linje, som gjør at gradienten $a$ tilsvarer resistansen i amperemeteret $R_{A}$"
   ]
  },
  {
   "cell_type": "code",
   "execution_count": 11,
   "id": "57486ec3",
   "metadata": {},
   "outputs": [],
   "source": [
    "# ============================ Funksjon for å estimere R_A ========================== #\n",
    "def estimer_R_A(I, U):\n",
    "    # funksjon for å estimere R i amperemeteret\n",
    "    res = scs.linregress(I, U)\n",
    "    \n",
    "    a = res.slope\n",
    "    b = res.intercept\n",
    "    \n",
    "    # plotter U mot I\n",
    "    plt.scatter(I, U)\n",
    "    plt.plot(I, b + a*I, c=\"r\")\n",
    "    plt.xlabel(\"Strømmen (I), målt i [A]\")\n",
    "    plt.ylabel(\"Spenningen (U), målt i [V]\")\n",
    "    plt.show()\n",
    "    return a"
   ]
  },
  {
   "cell_type": "markdown",
   "id": "5466745e",
   "metadata": {},
   "source": [
    "# På lab 2.2\n",
    "## Oppgave 2.2.1"
   ]
  },
  {
   "cell_type": "code",
   "execution_count": 13,
   "id": "d444ffb3",
   "metadata": {},
   "outputs": [
    {
     "data": {
      "image/png": "[encoded data removed]",
      "text/plain": [
       "<Figure size 432x288 with 1 Axes>"
      ]
     },
     "metadata": {
      "needs_background": "light"
     },
     "output_type": "display_data"
    },
    {
     "name": "stdout",
     "output_type": "stream",
     "text": [
      "Resistansen i amperemeteret er 13.82 [Omh]\n"
     ]
    }
   ],
   "source": [
    "# Trenger også bare verdier\n",
    "\n",
    "I = np.array([17e-3, 12.4e-3, 8.73e-3, 7.3e-3, 5.8e-3])\n",
    "U2 = np.array([235e-3, 169e-3, 119e-3, 100e-3, 80.2e-3])\n",
    "\n",
    "R_A = estimer_R_A(I, U2)\n",
    "print(f\"Resistansen i amperemeteret er {R_A:.2f} [Omh]\")"
   ]
  },
  {
   "cell_type": "markdown",
   "id": "3944b867",
   "metadata": {},
   "source": [
    "# Før lab 3.1\n",
    "## Oppgave 3.1.1\n",
    "\n",
    "Vi får oppgitt at peltier elementet har emf $\\varepsilon$ og indre resistans $r$. Vi får også vite at det går en strøm $I$ gjennom elementet. For å finne $U$, bruker vi Kirchoff's spenningslov:\n",
    "\n",
    "$$\\sum _{i}\\Delta V_{i}=0,$$\n",
    "\n",
    "som gir\n",
    "\n",
    "$$\\varepsilon-rI-U=0 \\implies U=\\varepsilon-rI$$\n",
    "\n",
    "Siden vi plotter $U$ mot $I$, er $r$ gradienten til den tilpassede linjen og $\\varepsilon$ er skjæringspunktet."
   ]
  },
  {
   "cell_type": "markdown",
   "id": "ecfa9a91",
   "metadata": {},
   "source": [
    "## Oppgave 3.1.2"
   ]
  },
  {
   "cell_type": "code",
   "execution_count": 18,
   "id": "c0b3ebc4",
   "metadata": {},
   "outputs": [],
   "source": [
    "# =========================== Funksjon for peltier-element ========================== #\n",
    "\n",
    "import numpy as np\n",
    "import scipy.stats as scs\n",
    "import matplotlib.pyplot as plt\n",
    "\n",
    "def estimer_R_peltier(U, R):\n",
    "    # bruker Ohm's lov for å finne I\n",
    "    I = U/R\n",
    "    res = scs.linregress(I, U)\n",
    "    a = res.slope\n",
    "    b = res.intercept\n",
    "    r = -a\n",
    "    epsilon = b\n",
    "    \n",
    "    # plotter U mot I\n",
    "    plt.scatter(I, U)\n",
    "    plt.plot(I, b + a*I, c=\"r\")\n",
    "    plt.xlabel(\"Strømmen (I), målt i [A]\")\n",
    "    plt.ylabel(\"Spenningen (U), målt i [V]\")\n",
    "    plt.show()\n",
    "    return r, epsilon"
   ]
  },
  {
   "cell_type": "markdown",
   "id": "0b97ea82",
   "metadata": {},
   "source": [
    "# På lab 3.2\n",
    "## Oppgave 3.2.1\n",
    "Peltier-elementet genererer 2.9e-3mV. Når vi legger elementet i en åpen handflate øker spenningen, og når vi lukker begge hendene om den, blir spenningen negativ. Og som forventet, funker den termoelektriske effekten i revers.\n",
    "\n",
    "Peltier-elementet genererer spenning utifra temperaturforskjellen; dersom det ikke er temperatur forskjeller, eller at for mye strøm går gjennom elementet, vil spenningen synke.\n",
    "\n",
    "## Oppgave 3.2.2\n",
    "\n",
    "Måling på bordet: 1.5mV\n",
    "\n",
    "Måling på kobber sylinder: -1.4mV\n",
    "\n",
    "Måling mellom to sylindre (en varm, en kald): 34 mV"
   ]
  },
  {
   "cell_type": "code",
   "execution_count": 26,
   "id": "05b4fb22",
   "metadata": {},
   "outputs": [
    {
     "data": {
      "image/png": "[encoded data removed]",
      "text/plain": [
       "<Figure size 432x288 with 1 Axes>"
      ]
     },
     "metadata": {
      "needs_background": "light"
     },
     "output_type": "display_data"
    },
    {
     "name": "stdout",
     "output_type": "stream",
     "text": [
      "Peltier elementet har resistens: 4.06 [Ohm], og emf: 0.61 [V] \n"
     ]
    }
   ],
   "source": [
    "# Trenger bare verdier\n",
    "U = np.array([121e-3, 165e-3, 233e-3, 297e-3, 438e-3])\n",
    "R = np.array([1, 1.5, 2.5, 4, 10])\n",
    "\n",
    "r, epsilon = estimer_R_peltier(U, R)\n",
    "print(f\"Peltier elementet har resistens: {r:.2f} [Ohm], og emf: {epsilon:.2f} [V] \")"
   ]
  },
  {
   "cell_type": "markdown",
   "id": "6538a7f2",
   "metadata": {},
   "source": [
    "# På lab 4.2\n",
    "## Oppgave 4.2.1-4.2.2\n",
    "\n",
    "Med kobber-staven, og inngang P og P1, har vi at målingene blir:\n",
    "1. $I = 2A$, $U = 0.065mV$\n",
    "2. $I = 1.6A$, $U = 0.052mV$\n",
    "3. $I = 1.3A$, $U = 0.043mV$\n",
    "4. $I = 1A$, $U = 0.033mV$\n",
    "\n",
    "Med kobber-staven, og inngang C og C1, har vi at målingene blir:\n",
    "1. $I = 2A$, $U = 2.7mV$\n",
    "2. $I = 1.6A$, $U = 2.2mV$\n",
    "3. $I = 1.3A$, $U = 1.8mV$\n",
    "4. $I = 1A$, $U = 1.4mV$\n",
    "\n",
    "Med aluminium staven, og inngang P og P1, har vi at målingene blir:\n",
    "1. $I = 2A$, $U = 0.11mV$\n",
    "2. $I = 1.6A$, $U = 0.09mV$\n",
    "3. $I = 1.3A$, $U = 0.074mV\n",
    "4. $I = 1A$, $U = 0.057mV$\n",
    "\n",
    "Med aluminium staven, og inngang C og C1, har vi at målingene blir:\n",
    "1. $I = 2A$, $U = 3.2mV$\n",
    "2. $I = 1.6A$, $U = 2.5mV$\n",
    "3. $I = 1.3A$, $U = 2mV$\n",
    "4. $I = 1A$, $U = 1.6mV$"
   ]
  },
  {
   "cell_type": "code",
   "execution_count": 16,
   "id": "ad2c4142",
   "metadata": {
    "scrolled": true
   },
   "outputs": [
    {
     "name": "stdout",
     "output_type": "stream",
     "text": [
      "[3.25000000e-05 3.25000000e-05 3.30769231e-05 3.30000000e-05]\n",
      "[0.00135    0.001375   0.00138462 0.0014    ]\n",
      "[5.50000000e-05 5.62500000e-05 5.69230769e-05 5.70000000e-05]\n",
      "[0.0016     0.0015625  0.00153846 0.0016    ]\n"
     ]
    }
   ],
   "source": [
    "# ===================================== Finner\n",
    "\n",
    "U = np.array([0.065e-3, 0.052e-3, 0.043e-3, 0.033e-3])\n",
    "U1 = np.array([2.7e-3, 2.2e-3, 1.8e-3, 1.4e-3])\n",
    "U2 = np.array([0.11e-3, 0.09e-3, 0.074e-3, 0.057e-3])\n",
    "U3 = np.array([3.2e-3, 2.5e-3, 2e-3, 1.6e-3])\n",
    "I = np.array([2, 1.6, 1.3, 1])\n",
    "\n",
    "R = U/I\n",
    "R1 = U1/I\n",
    "R2 = U2/I\n",
    "R3 = U3/I\n",
    "print(R)\n",
    "print(R1)\n",
    "print(R2)\n",
    "print(R3)"
   ]
  },
  {
   "cell_type": "markdown",
   "id": "ec64db22",
   "metadata": {},
   "source": [
    "Vi ser at resistansen ikke endrer seg for mye, fordi stavenes ledningsevne ikke varierer, men vi observerer at resistansen er mindre hos kobber-staven. Dette er fordi kobber er en bedre leder. Vi observerer også at resistansen er annerledes mellom de forskjellige inngangene - dette er fordi når vi krysser pluggene, så måler vi spenningsfallet over voltmeteret også. Dette viser at det er bedre å bruke de andre inngangene for å få gode målinger, og kun måle spenningsfallet over staven."
   ]
  },
  {
   "cell_type": "markdown",
   "id": "be8ca479",
   "metadata": {},
   "source": [
    "# Før lab 5.1\n",
    "## Oppgave 5.1.1\n",
    "\n",
    "Vi vet at ved kontinuerlig rotasjon, vil det ved Faradays lov induseres en emf $\\varepsilon$, gitt ved\n",
    "\n",
    "$$\\varepsilon=-\\dfrac{d{\\varphi}}{dt},$$\n",
    "\n",
    "hvor $\\varphi$ er fluksen gjennom spolen, gitt ved $\\varphi=NABcos(\\theta)$\n",
    "\n",
    "Vi finner $X$ uttrykkt ved $B$, $A$, $N$ og $\\omega$, og $B$ uttrykt ved uttrykket for $X$.\n",
    "\n",
    "Vi utleder først\n",
    "$$\\varepsilon=-\\dfrac{d{\\varphi}}{dt} \\implies \\varepsilon=-\\dfrac{d}{dt}(NABcos(\\omega t))$$\n",
    "\n",
    "som blir\n",
    "\n",
    "$$\\varepsilon=\\omega NABsin(\\omega t)$$\n",
    "\n",
    "Videre løser vi for $X$ og $B$, og får at\n",
    "\n",
    "$$X=\\omega NAB$$\n",
    "$$B=\\dfrac{X}{\\omega NA}$$"
   ]
  },
  {
   "cell_type": "markdown",
   "id": "d565fa97",
   "metadata": {},
   "source": [
    "# På lab 5.2\n",
    "## Oppgave 5.2.1\n",
    "\n",
    "Vi vet at $NA$ = 30, $\\omega$ = 3.73, $X$ = 6.81 [mV]. Bruker formlene ovenfor, og får at $B$ = 0.04799 [mT]."
   ]
  },
  {
   "cell_type": "markdown",
   "id": "7f57915f",
   "metadata": {},
   "source": [
    "## Oppgave 5.2.2\n",
    "\n",
    "Om vi spinner  sakte rundt, samtidig som vi spinner den roterende spolen, vil vi observere at verdiene vil oscillere. Der verdiene har nådd en maksima, vil vi peke i retningen av magnet feltet (nord eller sør), mens den vil være null i de andre retningene (øst og vest) siden den induserte strømmen avhenger av arealendring, og den er null."
   ]
  },
  {
   "cell_type": "code",
   "execution_count": null,
   "id": "fe5c6e5c",
   "metadata": {},
   "outputs": [],
   "source": []
  }
 ],
 "metadata": {
  "kernelspec": {
   "display_name": "Python 3 (ipykernel)",
   "language": "python",
   "name": "python3"
  },
  "language_info": {
   "codemirror_mode": {
    "name": "ipython",
    "version": 3
   },
   "file_extension": ".py",
   "mimetype": "text/x-python",
   "name": "python",
   "nbconvert_exporter": "python",
   "pygments_lexer": "ipython3",
   "version": "3.10.5"
  }
 },
 "nbformat": 4,
 "nbformat_minor": 5
}
